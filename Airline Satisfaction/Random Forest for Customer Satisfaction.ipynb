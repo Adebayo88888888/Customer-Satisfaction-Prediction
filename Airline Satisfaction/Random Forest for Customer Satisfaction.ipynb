{
 "cells": [
  {
   "cell_type": "markdown",
   "id": "f6ee4f89",
   "metadata": {},
   "source": [
    "# Build a random forest model"
   ]
  },
  {
   "cell_type": "markdown",
   "id": "26b6ff26",
   "metadata": {},
   "source": [
    "## **Introduction**\n",
    "\n",
    "This activity is a continuation of the project we began modeling with decision trees for an airline. Here, we will train, tune, and evaluate a random forest model using data from spreadsheet of survey responses from 129,880 customers as we have started in previous labs. It includes data points such as class, flight distance, and inflight entertainment. The random forest model will be used to predict whether a customer will be satisfied with their flight experience.\n",
    "\n",
    "Let's get started!"
   ]
  },
  {
   "cell_type": "code",
   "execution_count": 27,
   "id": "d1f037f1",
   "metadata": {},
   "outputs": [],
   "source": [
    "# Import relevant libaries\n",
    "import pandas as pd\n",
    "import numpy as np\n",
    "\n",
    "import matplotlib.pyplot as plt\n",
    "\n",
    "from sklearn.ensemble import RandomForestClassifier\n",
    "from sklearn.model_selection import train_test_split\n",
    "from sklearn.model_selection import PredefinedSplit\n",
    "from sklearn.model_selection import GridSearchCV\n",
    "from sklearn.metrics import f1_score, precision_score, recall_score, accuracy_score\n",
    "\n",
    "import pickle as pkl"
   ]
  },
  {
   "cell_type": "code",
   "execution_count": 3,
   "id": "ff913d83",
   "metadata": {},
   "outputs": [],
   "source": [
    "# Import dataset\n",
    "air_data= pd.read_csv(r'C:\\Users\\user\\Desktop\\Course 5\\Invistico_Airline.csv')"
   ]
  },
  {
   "cell_type": "code",
   "execution_count": 10,
   "id": "30a8feab",
   "metadata": {},
   "outputs": [
    {
     "data": {
      "text/html": [
       "<div>\n",
       "<style scoped>\n",
       "    .dataframe tbody tr th:only-of-type {\n",
       "        vertical-align: middle;\n",
       "    }\n",
       "\n",
       "    .dataframe tbody tr th {\n",
       "        vertical-align: top;\n",
       "    }\n",
       "\n",
       "    .dataframe thead th {\n",
       "        text-align: right;\n",
       "    }\n",
       "</style>\n",
       "<table border=\"1\" class=\"dataframe\">\n",
       "  <thead>\n",
       "    <tr style=\"text-align: right;\">\n",
       "      <th></th>\n",
       "      <th>satisfaction</th>\n",
       "      <th>Customer Type</th>\n",
       "      <th>Age</th>\n",
       "      <th>Type of Travel</th>\n",
       "      <th>Class</th>\n",
       "      <th>Flight Distance</th>\n",
       "      <th>Seat comfort</th>\n",
       "      <th>Departure/Arrival time convenient</th>\n",
       "      <th>Food and drink</th>\n",
       "      <th>Gate location</th>\n",
       "      <th>...</th>\n",
       "      <th>Online support</th>\n",
       "      <th>Ease of Online booking</th>\n",
       "      <th>On-board service</th>\n",
       "      <th>Leg room service</th>\n",
       "      <th>Baggage handling</th>\n",
       "      <th>Checkin service</th>\n",
       "      <th>Cleanliness</th>\n",
       "      <th>Online boarding</th>\n",
       "      <th>Departure Delay in Minutes</th>\n",
       "      <th>Arrival Delay in Minutes</th>\n",
       "    </tr>\n",
       "  </thead>\n",
       "  <tbody>\n",
       "    <tr>\n",
       "      <th>0</th>\n",
       "      <td>satisfied</td>\n",
       "      <td>Loyal Customer</td>\n",
       "      <td>65</td>\n",
       "      <td>Personal Travel</td>\n",
       "      <td>Eco</td>\n",
       "      <td>265</td>\n",
       "      <td>0</td>\n",
       "      <td>0</td>\n",
       "      <td>0</td>\n",
       "      <td>2</td>\n",
       "      <td>...</td>\n",
       "      <td>2</td>\n",
       "      <td>3</td>\n",
       "      <td>3</td>\n",
       "      <td>0</td>\n",
       "      <td>3</td>\n",
       "      <td>5</td>\n",
       "      <td>3</td>\n",
       "      <td>2</td>\n",
       "      <td>0</td>\n",
       "      <td>0.0</td>\n",
       "    </tr>\n",
       "    <tr>\n",
       "      <th>1</th>\n",
       "      <td>satisfied</td>\n",
       "      <td>Loyal Customer</td>\n",
       "      <td>47</td>\n",
       "      <td>Personal Travel</td>\n",
       "      <td>Business</td>\n",
       "      <td>2464</td>\n",
       "      <td>0</td>\n",
       "      <td>0</td>\n",
       "      <td>0</td>\n",
       "      <td>3</td>\n",
       "      <td>...</td>\n",
       "      <td>2</td>\n",
       "      <td>3</td>\n",
       "      <td>4</td>\n",
       "      <td>4</td>\n",
       "      <td>4</td>\n",
       "      <td>2</td>\n",
       "      <td>3</td>\n",
       "      <td>2</td>\n",
       "      <td>310</td>\n",
       "      <td>305.0</td>\n",
       "    </tr>\n",
       "    <tr>\n",
       "      <th>2</th>\n",
       "      <td>satisfied</td>\n",
       "      <td>Loyal Customer</td>\n",
       "      <td>15</td>\n",
       "      <td>Personal Travel</td>\n",
       "      <td>Eco</td>\n",
       "      <td>2138</td>\n",
       "      <td>0</td>\n",
       "      <td>0</td>\n",
       "      <td>0</td>\n",
       "      <td>3</td>\n",
       "      <td>...</td>\n",
       "      <td>2</td>\n",
       "      <td>2</td>\n",
       "      <td>3</td>\n",
       "      <td>3</td>\n",
       "      <td>4</td>\n",
       "      <td>4</td>\n",
       "      <td>4</td>\n",
       "      <td>2</td>\n",
       "      <td>0</td>\n",
       "      <td>0.0</td>\n",
       "    </tr>\n",
       "    <tr>\n",
       "      <th>3</th>\n",
       "      <td>satisfied</td>\n",
       "      <td>Loyal Customer</td>\n",
       "      <td>60</td>\n",
       "      <td>Personal Travel</td>\n",
       "      <td>Eco</td>\n",
       "      <td>623</td>\n",
       "      <td>0</td>\n",
       "      <td>0</td>\n",
       "      <td>0</td>\n",
       "      <td>3</td>\n",
       "      <td>...</td>\n",
       "      <td>3</td>\n",
       "      <td>1</td>\n",
       "      <td>1</td>\n",
       "      <td>0</td>\n",
       "      <td>1</td>\n",
       "      <td>4</td>\n",
       "      <td>1</td>\n",
       "      <td>3</td>\n",
       "      <td>0</td>\n",
       "      <td>0.0</td>\n",
       "    </tr>\n",
       "    <tr>\n",
       "      <th>4</th>\n",
       "      <td>satisfied</td>\n",
       "      <td>Loyal Customer</td>\n",
       "      <td>70</td>\n",
       "      <td>Personal Travel</td>\n",
       "      <td>Eco</td>\n",
       "      <td>354</td>\n",
       "      <td>0</td>\n",
       "      <td>0</td>\n",
       "      <td>0</td>\n",
       "      <td>3</td>\n",
       "      <td>...</td>\n",
       "      <td>4</td>\n",
       "      <td>2</td>\n",
       "      <td>2</td>\n",
       "      <td>0</td>\n",
       "      <td>2</td>\n",
       "      <td>4</td>\n",
       "      <td>2</td>\n",
       "      <td>5</td>\n",
       "      <td>0</td>\n",
       "      <td>0.0</td>\n",
       "    </tr>\n",
       "  </tbody>\n",
       "</table>\n",
       "<p>5 rows × 22 columns</p>\n",
       "</div>"
      ],
      "text/plain": [
       "  satisfaction   Customer Type  Age   Type of Travel     Class  \\\n",
       "0    satisfied  Loyal Customer   65  Personal Travel       Eco   \n",
       "1    satisfied  Loyal Customer   47  Personal Travel  Business   \n",
       "2    satisfied  Loyal Customer   15  Personal Travel       Eco   \n",
       "3    satisfied  Loyal Customer   60  Personal Travel       Eco   \n",
       "4    satisfied  Loyal Customer   70  Personal Travel       Eco   \n",
       "\n",
       "   Flight Distance  Seat comfort  Departure/Arrival time convenient  \\\n",
       "0              265             0                                  0   \n",
       "1             2464             0                                  0   \n",
       "2             2138             0                                  0   \n",
       "3              623             0                                  0   \n",
       "4              354             0                                  0   \n",
       "\n",
       "   Food and drink  Gate location  ...  Online support  Ease of Online booking  \\\n",
       "0               0              2  ...               2                       3   \n",
       "1               0              3  ...               2                       3   \n",
       "2               0              3  ...               2                       2   \n",
       "3               0              3  ...               3                       1   \n",
       "4               0              3  ...               4                       2   \n",
       "\n",
       "   On-board service  Leg room service  Baggage handling  Checkin service  \\\n",
       "0                 3                 0                 3                5   \n",
       "1                 4                 4                 4                2   \n",
       "2                 3                 3                 4                4   \n",
       "3                 1                 0                 1                4   \n",
       "4                 2                 0                 2                4   \n",
       "\n",
       "   Cleanliness  Online boarding  Departure Delay in Minutes  \\\n",
       "0            3                2                           0   \n",
       "1            3                2                         310   \n",
       "2            4                2                           0   \n",
       "3            1                3                           0   \n",
       "4            2                5                           0   \n",
       "\n",
       "   Arrival Delay in Minutes  \n",
       "0                       0.0  \n",
       "1                     305.0  \n",
       "2                       0.0  \n",
       "3                       0.0  \n",
       "4                       0.0  \n",
       "\n",
       "[5 rows x 22 columns]"
      ]
     },
     "execution_count": 10,
     "metadata": {},
     "output_type": "execute_result"
    }
   ],
   "source": [
    "# Display first few rows\n",
    "air_data.head()"
   ]
  },
  {
   "cell_type": "code",
   "execution_count": 11,
   "id": "e60d2d49",
   "metadata": {},
   "outputs": [
    {
     "data": {
      "text/plain": [
       "(129880, 22)"
      ]
     },
     "execution_count": 11,
     "metadata": {},
     "output_type": "execute_result"
    }
   ],
   "source": [
    "air_data.shape"
   ]
  },
  {
   "cell_type": "code",
   "execution_count": 12,
   "id": "9ef9a283",
   "metadata": {},
   "outputs": [
    {
     "name": "stdout",
     "output_type": "stream",
     "text": [
      "<class 'pandas.core.frame.DataFrame'>\n",
      "RangeIndex: 129880 entries, 0 to 129879\n",
      "Data columns (total 22 columns):\n",
      " #   Column                             Non-Null Count   Dtype  \n",
      "---  ------                             --------------   -----  \n",
      " 0   satisfaction                       129880 non-null  object \n",
      " 1   Customer Type                      129880 non-null  object \n",
      " 2   Age                                129880 non-null  int64  \n",
      " 3   Type of Travel                     129880 non-null  object \n",
      " 4   Class                              129880 non-null  object \n",
      " 5   Flight Distance                    129880 non-null  int64  \n",
      " 6   Seat comfort                       129880 non-null  int64  \n",
      " 7   Departure/Arrival time convenient  129880 non-null  int64  \n",
      " 8   Food and drink                     129880 non-null  int64  \n",
      " 9   Gate location                      129880 non-null  int64  \n",
      " 10  Inflight wifi service              129880 non-null  int64  \n",
      " 11  Inflight entertainment             129880 non-null  int64  \n",
      " 12  Online support                     129880 non-null  int64  \n",
      " 13  Ease of Online booking             129880 non-null  int64  \n",
      " 14  On-board service                   129880 non-null  int64  \n",
      " 15  Leg room service                   129880 non-null  int64  \n",
      " 16  Baggage handling                   129880 non-null  int64  \n",
      " 17  Checkin service                    129880 non-null  int64  \n",
      " 18  Cleanliness                        129880 non-null  int64  \n",
      " 19  Online boarding                    129880 non-null  int64  \n",
      " 20  Departure Delay in Minutes         129880 non-null  int64  \n",
      " 21  Arrival Delay in Minutes           129487 non-null  float64\n",
      "dtypes: float64(1), int64(17), object(4)\n",
      "memory usage: 21.8+ MB\n"
     ]
    }
   ],
   "source": [
    "air_data.info()"
   ]
  },
  {
   "cell_type": "markdown",
   "id": "12ca6406",
   "metadata": {},
   "source": [
    "There are 393 rows with missing values.\n",
    "\n",
    "\n",
    "\n",
    "Drop the rows with missing values. This is an important step in data cleaning, as it makes our data more useful for analysis and regression. Then, save the resulting pandas DataFrame in a variable named `air_data_subset`."
   ]
  },
  {
   "cell_type": "code",
   "execution_count": 13,
   "id": "d51aa8ac",
   "metadata": {},
   "outputs": [],
   "source": [
    "# Drop missing values\n",
    "air_data_subset= air_data.dropna(axis= 0)"
   ]
  },
  {
   "cell_type": "markdown",
   "id": "20b5ab25",
   "metadata": {},
   "source": [
    "Next, convert the categorical features to indicator (one-hot encoded) features. \n",
    "\n",
    "**Note:** The `drop_first` argument can be kept as default (`False`) during one-hot encoding for random forest models, so it does not need to be specified. Also, the target variable, `satisfaction`, does not need to be encoded and will be extracted in a later step."
   ]
  },
  {
   "cell_type": "code",
   "execution_count": 15,
   "id": "ba779a6b",
   "metadata": {},
   "outputs": [],
   "source": [
    "# Convert categorical features to one-hot encoded features.\n",
    "air_data_subset_dummies = pd.get_dummies(air_data_subset, \n",
    "                                         columns=['Customer Type','Type of Travel','Class'])"
   ]
  },
  {
   "cell_type": "markdown",
   "id": "58e0a589",
   "metadata": {},
   "source": [
    "It is necessary that we convert categorical variables to dummy variables because the sklearn implementation of `RandomForestClassifier()` requires that categorical features be encoded to numeric, which can be done using dummy variables or one-hot encoding."
   ]
  },
  {
   "cell_type": "code",
   "execution_count": 17,
   "id": "758d3ba1",
   "metadata": {},
   "outputs": [
    {
     "data": {
      "text/html": [
       "<div>\n",
       "<style scoped>\n",
       "    .dataframe tbody tr th:only-of-type {\n",
       "        vertical-align: middle;\n",
       "    }\n",
       "\n",
       "    .dataframe tbody tr th {\n",
       "        vertical-align: top;\n",
       "    }\n",
       "\n",
       "    .dataframe thead th {\n",
       "        text-align: right;\n",
       "    }\n",
       "</style>\n",
       "<table border=\"1\" class=\"dataframe\">\n",
       "  <thead>\n",
       "    <tr style=\"text-align: right;\">\n",
       "      <th></th>\n",
       "      <th>satisfaction</th>\n",
       "      <th>Age</th>\n",
       "      <th>Flight Distance</th>\n",
       "      <th>Seat comfort</th>\n",
       "      <th>Departure/Arrival time convenient</th>\n",
       "      <th>Food and drink</th>\n",
       "      <th>Gate location</th>\n",
       "      <th>Inflight wifi service</th>\n",
       "      <th>Inflight entertainment</th>\n",
       "      <th>Online support</th>\n",
       "      <th>...</th>\n",
       "      <th>Online boarding</th>\n",
       "      <th>Departure Delay in Minutes</th>\n",
       "      <th>Arrival Delay in Minutes</th>\n",
       "      <th>Customer Type_Loyal Customer</th>\n",
       "      <th>Customer Type_disloyal Customer</th>\n",
       "      <th>Type of Travel_Business travel</th>\n",
       "      <th>Type of Travel_Personal Travel</th>\n",
       "      <th>Class_Business</th>\n",
       "      <th>Class_Eco</th>\n",
       "      <th>Class_Eco Plus</th>\n",
       "    </tr>\n",
       "  </thead>\n",
       "  <tbody>\n",
       "    <tr>\n",
       "      <th>0</th>\n",
       "      <td>satisfied</td>\n",
       "      <td>65</td>\n",
       "      <td>265</td>\n",
       "      <td>0</td>\n",
       "      <td>0</td>\n",
       "      <td>0</td>\n",
       "      <td>2</td>\n",
       "      <td>2</td>\n",
       "      <td>4</td>\n",
       "      <td>2</td>\n",
       "      <td>...</td>\n",
       "      <td>2</td>\n",
       "      <td>0</td>\n",
       "      <td>0.0</td>\n",
       "      <td>1</td>\n",
       "      <td>0</td>\n",
       "      <td>0</td>\n",
       "      <td>1</td>\n",
       "      <td>0</td>\n",
       "      <td>1</td>\n",
       "      <td>0</td>\n",
       "    </tr>\n",
       "    <tr>\n",
       "      <th>1</th>\n",
       "      <td>satisfied</td>\n",
       "      <td>47</td>\n",
       "      <td>2464</td>\n",
       "      <td>0</td>\n",
       "      <td>0</td>\n",
       "      <td>0</td>\n",
       "      <td>3</td>\n",
       "      <td>0</td>\n",
       "      <td>2</td>\n",
       "      <td>2</td>\n",
       "      <td>...</td>\n",
       "      <td>2</td>\n",
       "      <td>310</td>\n",
       "      <td>305.0</td>\n",
       "      <td>1</td>\n",
       "      <td>0</td>\n",
       "      <td>0</td>\n",
       "      <td>1</td>\n",
       "      <td>1</td>\n",
       "      <td>0</td>\n",
       "      <td>0</td>\n",
       "    </tr>\n",
       "    <tr>\n",
       "      <th>2</th>\n",
       "      <td>satisfied</td>\n",
       "      <td>15</td>\n",
       "      <td>2138</td>\n",
       "      <td>0</td>\n",
       "      <td>0</td>\n",
       "      <td>0</td>\n",
       "      <td>3</td>\n",
       "      <td>2</td>\n",
       "      <td>0</td>\n",
       "      <td>2</td>\n",
       "      <td>...</td>\n",
       "      <td>2</td>\n",
       "      <td>0</td>\n",
       "      <td>0.0</td>\n",
       "      <td>1</td>\n",
       "      <td>0</td>\n",
       "      <td>0</td>\n",
       "      <td>1</td>\n",
       "      <td>0</td>\n",
       "      <td>1</td>\n",
       "      <td>0</td>\n",
       "    </tr>\n",
       "    <tr>\n",
       "      <th>3</th>\n",
       "      <td>satisfied</td>\n",
       "      <td>60</td>\n",
       "      <td>623</td>\n",
       "      <td>0</td>\n",
       "      <td>0</td>\n",
       "      <td>0</td>\n",
       "      <td>3</td>\n",
       "      <td>3</td>\n",
       "      <td>4</td>\n",
       "      <td>3</td>\n",
       "      <td>...</td>\n",
       "      <td>3</td>\n",
       "      <td>0</td>\n",
       "      <td>0.0</td>\n",
       "      <td>1</td>\n",
       "      <td>0</td>\n",
       "      <td>0</td>\n",
       "      <td>1</td>\n",
       "      <td>0</td>\n",
       "      <td>1</td>\n",
       "      <td>0</td>\n",
       "    </tr>\n",
       "    <tr>\n",
       "      <th>4</th>\n",
       "      <td>satisfied</td>\n",
       "      <td>70</td>\n",
       "      <td>354</td>\n",
       "      <td>0</td>\n",
       "      <td>0</td>\n",
       "      <td>0</td>\n",
       "      <td>3</td>\n",
       "      <td>4</td>\n",
       "      <td>3</td>\n",
       "      <td>4</td>\n",
       "      <td>...</td>\n",
       "      <td>5</td>\n",
       "      <td>0</td>\n",
       "      <td>0.0</td>\n",
       "      <td>1</td>\n",
       "      <td>0</td>\n",
       "      <td>0</td>\n",
       "      <td>1</td>\n",
       "      <td>0</td>\n",
       "      <td>1</td>\n",
       "      <td>0</td>\n",
       "    </tr>\n",
       "  </tbody>\n",
       "</table>\n",
       "<p>5 rows × 26 columns</p>\n",
       "</div>"
      ],
      "text/plain": [
       "  satisfaction  Age  Flight Distance  Seat comfort  \\\n",
       "0    satisfied   65              265             0   \n",
       "1    satisfied   47             2464             0   \n",
       "2    satisfied   15             2138             0   \n",
       "3    satisfied   60              623             0   \n",
       "4    satisfied   70              354             0   \n",
       "\n",
       "   Departure/Arrival time convenient  Food and drink  Gate location  \\\n",
       "0                                  0               0              2   \n",
       "1                                  0               0              3   \n",
       "2                                  0               0              3   \n",
       "3                                  0               0              3   \n",
       "4                                  0               0              3   \n",
       "\n",
       "   Inflight wifi service  Inflight entertainment  Online support  ...  \\\n",
       "0                      2                       4               2  ...   \n",
       "1                      0                       2               2  ...   \n",
       "2                      2                       0               2  ...   \n",
       "3                      3                       4               3  ...   \n",
       "4                      4                       3               4  ...   \n",
       "\n",
       "   Online boarding  Departure Delay in Minutes  Arrival Delay in Minutes  \\\n",
       "0                2                           0                       0.0   \n",
       "1                2                         310                     305.0   \n",
       "2                2                           0                       0.0   \n",
       "3                3                           0                       0.0   \n",
       "4                5                           0                       0.0   \n",
       "\n",
       "   Customer Type_Loyal Customer  Customer Type_disloyal Customer  \\\n",
       "0                             1                                0   \n",
       "1                             1                                0   \n",
       "2                             1                                0   \n",
       "3                             1                                0   \n",
       "4                             1                                0   \n",
       "\n",
       "   Type of Travel_Business travel  Type of Travel_Personal Travel  \\\n",
       "0                               0                               1   \n",
       "1                               0                               1   \n",
       "2                               0                               1   \n",
       "3                               0                               1   \n",
       "4                               0                               1   \n",
       "\n",
       "   Class_Business  Class_Eco  Class_Eco Plus  \n",
       "0               0          1               0  \n",
       "1               1          0               0  \n",
       "2               0          1               0  \n",
       "3               0          1               0  \n",
       "4               0          1               0  \n",
       "\n",
       "[5 rows x 26 columns]"
      ]
     },
     "execution_count": 17,
     "metadata": {},
     "output_type": "execute_result"
    }
   ],
   "source": [
    "# Display the first 10 rows.\n",
    "air_data_subset_dummies.head(5)"
   ]
  },
  {
   "cell_type": "code",
   "execution_count": 18,
   "id": "042aeb80",
   "metadata": {},
   "outputs": [
    {
     "data": {
      "text/plain": [
       "satisfaction                          object\n",
       "Age                                    int64\n",
       "Flight Distance                        int64\n",
       "Seat comfort                           int64\n",
       "Departure/Arrival time convenient      int64\n",
       "Food and drink                         int64\n",
       "Gate location                          int64\n",
       "Inflight wifi service                  int64\n",
       "Inflight entertainment                 int64\n",
       "Online support                         int64\n",
       "Ease of Online booking                 int64\n",
       "On-board service                       int64\n",
       "Leg room service                       int64\n",
       "Baggage handling                       int64\n",
       "Checkin service                        int64\n",
       "Cleanliness                            int64\n",
       "Online boarding                        int64\n",
       "Departure Delay in Minutes             int64\n",
       "Arrival Delay in Minutes             float64\n",
       "Customer Type_Loyal Customer           uint8\n",
       "Customer Type_disloyal Customer        uint8\n",
       "Type of Travel_Business travel         uint8\n",
       "Type of Travel_Personal Travel         uint8\n",
       "Class_Business                         uint8\n",
       "Class_Eco                              uint8\n",
       "Class_Eco Plus                         uint8\n",
       "dtype: object"
      ]
     },
     "execution_count": 18,
     "metadata": {},
     "output_type": "execute_result"
    }
   ],
   "source": [
    "# Display variables.\n",
    "air_data_subset_dummies.dtypes"
   ]
  },
  {
   "cell_type": "markdown",
   "id": "cdb4417f",
   "metadata": {},
   "source": [
    "All of the following changes could be observed, which all have data type as unit8\n",
    "\n",
    "- Customer Type  -->  Customer Type_Loyal Customer and Customer Type_disloyal Customer\n",
    "- Type of Travel -->  Type of Travel_Business travel and Type of Travel_Personal travel \n",
    "- Class          --> Class_Business, Class_Eco, Class_Eco Plus"
   ]
  },
  {
   "cell_type": "markdown",
   "id": "18206d4f",
   "metadata": {},
   "source": [
    "## Model building"
   ]
  },
  {
   "cell_type": "code",
   "execution_count": 19,
   "id": "0b2ba70c",
   "metadata": {},
   "outputs": [],
   "source": [
    "# Separate the dataset into labels (y) and features (X).\n",
    "y = air_data_subset_dummies[\"satisfaction\"]\n",
    "X = air_data_subset_dummies.drop(\"satisfaction\", axis=1)"
   ]
  },
  {
   "cell_type": "code",
   "execution_count": 20,
   "id": "9e73f103",
   "metadata": {},
   "outputs": [],
   "source": [
    "# Separate into train, validate, test sets.\n",
    "X_train, X_test, y_train, y_test = train_test_split(X, y, test_size = 0.25, random_state = 0)\n",
    "X_tr, X_val, y_tr, y_val = train_test_split(X_train, y_train, test_size = 0.25, random_state = 0)\n"
   ]
  },
  {
   "cell_type": "markdown",
   "id": "fac76164",
   "metadata": {},
   "source": [
    "### Tune the model\n",
    "\n",
    "Now, we'll fit and tune a random forest model with separate validation set. Begin by determining a set of hyperparameters for tuning the model using GridSearchCV."
   ]
  },
  {
   "cell_type": "code",
   "execution_count": 21,
   "id": "b80a7eed",
   "metadata": {},
   "outputs": [],
   "source": [
    "# Determine set of hyperparameters\n",
    "\n",
    "cv_params= {'n_estimators': [50,100],\n",
    "             'max_depth': [10,50],\n",
    "             'min_samples_leaf' : [0.5,1], \n",
    "             'min_samples_split' : [0.001, 0.01],\n",
    "             'max_features' : [\"sqrt\"], \n",
    "             'max_samples' : [.5,.9]}"
   ]
  },
  {
   "cell_type": "code",
   "execution_count": 24,
   "id": "12bf7128",
   "metadata": {},
   "outputs": [],
   "source": [
    "# Create a list of split indices\n",
    "split_index= [0 if x in X_val.index else -1 for x in X_train.index]\n",
    "custom_split= PredefinedSplit(split_index)"
   ]
  },
  {
   "cell_type": "code",
   "execution_count": 28,
   "id": "183a9cbb",
   "metadata": {},
   "outputs": [],
   "source": [
    "# Instantiate the model\n",
    "rf= RandomForestClassifier(random_state= 0)"
   ]
  },
  {
   "cell_type": "markdown",
   "id": "825d1f98",
   "metadata": {},
   "source": [
    "**Next, use GridSearchCV to search over the specified parameters.**"
   ]
  },
  {
   "cell_type": "code",
   "execution_count": 29,
   "id": "748db44e",
   "metadata": {},
   "outputs": [],
   "source": [
    "# Search over specified parameters\n",
    "rf_val= GridSearchCV(rf, cv_params, cv= custom_split, refit= 'f1', n_jobs= -1, verbose=1)"
   ]
  },
  {
   "cell_type": "markdown",
   "id": "106708b3",
   "metadata": {},
   "source": [
    "Now, we'll fit the model"
   ]
  },
  {
   "cell_type": "code",
   "execution_count": 30,
   "id": "5fe0a64e",
   "metadata": {},
   "outputs": [
    {
     "name": "stdout",
     "output_type": "stream",
     "text": [
      "Fitting 1 folds for each of 32 candidates, totalling 32 fits\n",
      "Wall time: 2min 10s\n"
     ]
    },
    {
     "data": {
      "text/plain": [
       "GridSearchCV(cv=PredefinedSplit(test_fold=array([-1, -1, ..., -1, -1])),\n",
       "             estimator=RandomForestClassifier(random_state=0), n_jobs=-1,\n",
       "             param_grid={'max_depth': [10, 50], 'max_features': ['sqrt'],\n",
       "                         'max_samples': [0.5, 0.9],\n",
       "                         'min_samples_leaf': [0.5, 1],\n",
       "                         'min_samples_split': [0.001, 0.01],\n",
       "                         'n_estimators': [50, 100]},\n",
       "             refit='f1', verbose=1)"
      ]
     },
     "execution_count": 30,
     "metadata": {},
     "output_type": "execute_result"
    }
   ],
   "source": [
    "%%time\n",
    "\n",
    "# Fit the model.\n",
    "rf_val.fit(X_train, y_train)"
   ]
  },
  {
   "cell_type": "markdown",
   "id": "93a4fd83",
   "metadata": {},
   "source": [
    "Finally, obtain the optimal parameters."
   ]
  },
  {
   "cell_type": "code",
   "execution_count": 31,
   "id": "a5d9922f",
   "metadata": {},
   "outputs": [
    {
     "data": {
      "text/plain": [
       "{'max_depth': 50,\n",
       " 'max_features': 'sqrt',\n",
       " 'max_samples': 0.9,\n",
       " 'min_samples_leaf': 1,\n",
       " 'min_samples_split': 0.001,\n",
       " 'n_estimators': 50}"
      ]
     },
     "execution_count": 31,
     "metadata": {},
     "output_type": "execute_result"
    }
   ],
   "source": [
    "# Obtain optimal parameters.\n",
    "rf_val.best_params_"
   ]
  },
  {
   "cell_type": "markdown",
   "id": "5ef28516",
   "metadata": {},
   "source": [
    "## Result and evalution\n",
    "Use the selected model to predict on the test data. Use the optimal parameters found via GridSearchCV."
   ]
  },
  {
   "cell_type": "code",
   "execution_count": 35,
   "id": "ea746cbb",
   "metadata": {},
   "outputs": [],
   "source": [
    "# Use optimal parameters on GridSearchCV\n",
    "rf_opt= RandomForestClassifier(n_estimators= 50, max_depth =50,\n",
    "                              min_samples_leaf=1, min_samples_split= 0.001,\n",
    "                              max_features= 'sqrt', max_samples= 0.9, random_state=0)"
   ]
  },
  {
   "cell_type": "markdown",
   "id": "4c700490",
   "metadata": {},
   "source": [
    "Once again, fit the optimal model."
   ]
  },
  {
   "cell_type": "code",
   "execution_count": 36,
   "id": "0f312b5c",
   "metadata": {},
   "outputs": [
    {
     "data": {
      "text/plain": [
       "RandomForestClassifier(max_depth=50, max_features='sqrt', max_samples=0.9,\n",
       "                       min_samples_split=0.001, n_estimators=50,\n",
       "                       random_state=0)"
      ]
     },
     "execution_count": 36,
     "metadata": {},
     "output_type": "execute_result"
    }
   ],
   "source": [
    "# Fit the model\n",
    "rf_opt.fit(X_train, y_train)"
   ]
  },
  {
   "cell_type": "code",
   "execution_count": 37,
   "id": "984341a3",
   "metadata": {},
   "outputs": [],
   "source": [
    "# Predict on test set\n",
    "y_pred= rf_opt.predict(X_test)"
   ]
  },
  {
   "cell_type": "markdown",
   "id": "43a30775",
   "metadata": {},
   "source": [
    "## Obtain performance score"
   ]
  },
  {
   "cell_type": "code",
   "execution_count": 40,
   "id": "53036e85",
   "metadata": {},
   "outputs": [
    {
     "name": "stdout",
     "output_type": "stream",
     "text": [
      "0.9501276595744681\n",
      "The precision score is 0.950\n"
     ]
    }
   ],
   "source": [
    "# Get precision score\n",
    "\n",
    "pc_test= precision_score(y_test, y_pred, pos_label= 'satisfied')\n",
    "print(pc_test)\n",
    "print(\"The precision score is {pc:.3f}\".format(pc = pc_test))"
   ]
  },
  {
   "cell_type": "code",
   "execution_count": 43,
   "id": "0f8f7d23",
   "metadata": {},
   "outputs": [
    {
     "name": "stdout",
     "output_type": "stream",
     "text": [
      "0.9445008460236887\n",
      "The recall score is 0.945\n"
     ]
    }
   ],
   "source": [
    "# Get recall score\n",
    "\n",
    "rc_test = recall_score(y_test, y_pred, pos_label = \"satisfied\")\n",
    "print(rc_test)\n",
    "print(\"The recall score is {rc:.3f}\".format(rc = rc_test))"
   ]
  },
  {
   "cell_type": "code",
   "execution_count": 48,
   "id": "741e70fb",
   "metadata": {},
   "outputs": [
    {
     "name": "stdout",
     "output_type": "stream",
     "text": [
      "0.9424502656616829\n",
      "The accuracy score is 0.942\n"
     ]
    }
   ],
   "source": [
    "# Get accuracy score\n",
    "ac_test= accuracy_score(y_test, y_pred,)\n",
    "print(ac_test)\n",
    "print('The accuracy score is {ac:.3f}'.format(ac= ac_test))"
   ]
  },
  {
   "cell_type": "code",
   "execution_count": 49,
   "id": "cc17a58a",
   "metadata": {},
   "outputs": [
    {
     "name": "stdout",
     "output_type": "stream",
     "text": [
      "0.9473058973271109\n",
      "The F1 score is 0.947\n"
     ]
    }
   ],
   "source": [
    "# Get F1 score.\n",
    "f1_test = f1_score(y_test, y_pred, pos_label = \"satisfied\")\n",
    "print(f1_test)\n",
    "print(\"The F1 score is {f1:.3f}\".format(f1 = f1_test))"
   ]
  },
  {
   "cell_type": "markdown",
   "id": "0dc9e4e8",
   "metadata": {},
   "source": [
    "Pros of performing the model selection using test data instead of a separate validation dataset : <br />\n",
    "*  The coding workload is reduced.\n",
    "*  The scripts for data splitting are shorter.\n",
    "*  It's only  necessary to evaluate test dataset performance once, instead of two evaluations (validate and test).\n",
    "\n",
    "Cons  of performing the model selection using test data instead of a separate validation dataset: <br />\n",
    "* If a model is evaluated using samples that were also used to build or fine-tune that model, it likely will provide a biased evaluation.\n",
    "* A potential overfitting issue could happen when fitting the model's scores on the test data.\n",
    "\n"
   ]
  },
  {
   "cell_type": "markdown",
   "id": "4b0ab90e",
   "metadata": {},
   "source": [
    "- Accuracy (TP+TN/TP+FP+FN+TN): The ratio of correctly predicted observations to total observations. \n",
    " \n",
    "- Precision (TP/TP+FP): The ratio of correctly predicted positive observations to total predicted positive observations. \n",
    "\n",
    "- Recall (Sensitivity, TP/TP+FN): The ratio of correctly predicted positive observations to all observations in actual class.\n",
    "\n",
    "- F1 score: The harmonic average of precision and recall, which takes into account both false positives and false negatives. "
   ]
  },
  {
   "cell_type": "markdown",
   "id": "5960db8f",
   "metadata": {},
   "source": [
    "## Reults and evaluation\n",
    "\n",
    "**In the light of the above cells,**\n",
    "\n",
    "\n",
    "The precision score is: 0.950 for the test set, \n",
    "which means of all positive predictions, 95.0% prediction are true positive.\n",
    "\n",
    "The recall score is: 0.945 for the test set, \n",
    "which means of which means of all real positive cases in test set, 94.5% are  predicted positive.\n",
    "\n",
    "The accuracy score is: 0.942 for the test set, \n",
    "which means of all cases in test set, 94.2% are predicted true positive or true negative.\n",
    "\n",
    "The F1 score is: 0.947 for the test set, \n",
    "which means the test set's harmonic mean is 94.7%."
   ]
  },
  {
   "cell_type": "markdown",
   "id": "6dc396ca",
   "metadata": {},
   "source": [
    "**NOTE:**\n",
    "\n",
    "The tuned random forest has higher scores overall, so it is the better model compared to the models built in previous labs. Particularly, it shows a better F1 score than the decision tree model, which indicates that the random forest model may do better at classification when taking into account false positives and false negatives. \n",
    "\n"
   ]
  },
  {
   "cell_type": "markdown",
   "id": "37bdb2fb",
   "metadata": {},
   "source": [
    "## Conclusion\n",
    "* The random forest model predicted satisfaction with more than 94.2% accuracy. The precision is over 95% and the recall is approximately 94.5%. \n",
    "* The random forest model outperformed the tuned decision tree with the best hyperparameters in most of the four scores. This indicates that the random forest model may perform better.\n",
    "* Because stakeholders were interested in learning about the factors that are most important to customer satisfaction, this would be shared based on the tuned random forest. "
   ]
  }
 ],
 "metadata": {
  "kernelspec": {
   "display_name": "Python 3 (ipykernel)",
   "language": "python",
   "name": "python3"
  },
  "language_info": {
   "codemirror_mode": {
    "name": "ipython",
    "version": 3
   },
   "file_extension": ".py",
   "mimetype": "text/x-python",
   "name": "python",
   "nbconvert_exporter": "python",
   "pygments_lexer": "ipython3",
   "version": "3.9.16"
  }
 },
 "nbformat": 4,
 "nbformat_minor": 5
}
